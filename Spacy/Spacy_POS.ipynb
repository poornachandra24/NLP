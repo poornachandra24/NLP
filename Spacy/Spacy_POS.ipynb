{
 "cells": [
  {
   "cell_type": "code",
   "execution_count": 1,
   "metadata": {},
   "outputs": [
    {
     "name": "stderr",
     "output_type": "stream",
     "text": [
      "c:\\Users\\Admin\\AppData\\Local\\Programs\\Python\\Python310\\lib\\site-packages\\tqdm\\auto.py:22: TqdmWarning: IProgress not found. Please update jupyter and ipywidgets. See https://ipywidgets.readthedocs.io/en/stable/user_install.html\n",
      "  from .autonotebook import tqdm as notebook_tqdm\n"
     ]
    }
   ],
   "source": [
    "import spacy"
   ]
  },
  {
   "cell_type": "markdown",
   "metadata": {},
   "source": [
    "POS tags"
   ]
  },
  {
   "cell_type": "code",
   "execution_count": 2,
   "metadata": {},
   "outputs": [
    {
     "name": "stdout",
     "output_type": "stream",
     "text": [
      "Elon  |  PROPN  |  96  |  proper noun\n",
      "flew  |  VERB  |  100  |  verb\n",
      "to  |  ADP  |  85  |  adposition\n",
      "mars  |  NOUN  |  92  |  noun\n",
      "yesterday  |  NOUN  |  92  |  noun\n",
      ".  |  PUNCT  |  97  |  punctuation\n",
      "He  |  PRON  |  95  |  pronoun\n",
      "carried  |  VERB  |  100  |  verb\n",
      "biryani  |  ADJ  |  84  |  adjective\n",
      "masala  |  NOUN  |  92  |  noun\n",
      "with  |  ADP  |  85  |  adposition\n",
      "him  |  PRON  |  95  |  pronoun\n"
     ]
    }
   ],
   "source": [
    "nlp= spacy.load(\"en_core_web_sm\")\n",
    "doc=nlp(\"Elon flew to mars yesterday. He carried biryani masala with him\")\n",
    "\n",
    "for token in doc:\n",
    "    print(token,\" | \",token.pos_,\" | \",token.pos,\" | \",spacy.explain(token.pos_))\n"
   ]
  },
  {
   "cell_type": "code",
   "execution_count": 3,
   "metadata": {},
   "outputs": [
    {
     "name": "stdout",
     "output_type": "stream",
     "text": [
      "Wow  |  INTJ  |  interjection\n",
      "!  |  PUNCT  |  punctuation\n",
      "Dr.  |  PROPN  |  proper noun\n",
      "Strange  |  PROPN  |  proper noun\n",
      "made  |  VERB  |  verb\n",
      "265  |  NUM  |  numeral\n",
      "million  |  NUM  |  numeral\n",
      "$  |  NUM  |  numeral\n",
      "on  |  ADP  |  adposition\n",
      "the  |  DET  |  determiner\n",
      "very  |  ADV  |  adverb\n",
      "first  |  ADJ  |  adjective\n",
      "day  |  NOUN  |  noun\n"
     ]
    }
   ],
   "source": [
    "doc = nlp(\"Wow! Dr. Strange made 265 million $ on the very first day\")\n",
    "\n",
    "for token in doc:\n",
    "    print(token,\" | \", token.pos_, \" | \", spacy.explain(token.pos_))"
   ]
  },
  {
   "cell_type": "markdown",
   "metadata": {},
   "source": [
    "Tags"
   ]
  },
  {
   "cell_type": "code",
   "execution_count": 4,
   "metadata": {},
   "outputs": [
    {
     "name": "stdout",
     "output_type": "stream",
     "text": [
      "Wow  |  INTJ  |  interjection  |  UH  |  interjection\n",
      "!  |  PUNCT  |  punctuation  |  .  |  punctuation mark, sentence closer\n",
      "Dr.  |  PROPN  |  proper noun  |  NNP  |  noun, proper singular\n",
      "Strange  |  PROPN  |  proper noun  |  NNP  |  noun, proper singular\n",
      "made  |  VERB  |  verb  |  VBD  |  verb, past tense\n",
      "265  |  NUM  |  numeral  |  CD  |  cardinal number\n",
      "million  |  NUM  |  numeral  |  CD  |  cardinal number\n",
      "$  |  NUM  |  numeral  |  CD  |  cardinal number\n",
      "on  |  ADP  |  adposition  |  IN  |  conjunction, subordinating or preposition\n",
      "the  |  DET  |  determiner  |  DT  |  determiner\n",
      "very  |  ADV  |  adverb  |  RB  |  adverb\n",
      "first  |  ADJ  |  adjective  |  JJ  |  adjective (English), other noun-modifier (Chinese)\n",
      "day  |  NOUN  |  noun  |  NN  |  noun, singular or mass\n"
     ]
    }
   ],
   "source": [
    "doc = nlp(\"Wow! Dr. Strange made 265 million $ on the very first day\")\n",
    "\n",
    "for token in doc:\n",
    "    print(token,\" | \", token.pos_, \" | \", spacy.explain(token.pos_), \" | \", token.tag_, \" | \", spacy.explain(token.tag_))"
   ]
  },
  {
   "cell_type": "markdown",
   "metadata": {},
   "source": [
    "In below sentences Spacy figures out the past vs present tense for quit"
   ]
  },
  {
   "cell_type": "code",
   "execution_count": 13,
   "metadata": {},
   "outputs": [
    {
     "name": "stdout",
     "output_type": "stream",
     "text": [
      "quits | VBZ | verb, 3rd person singular present\n"
     ]
    }
   ],
   "source": [
    "doc = nlp(\"He quits the job\")\n",
    "\n",
    "print(doc[1].text, \"|\", doc[1].tag_, \"|\", spacy.explain(doc[1].tag_))"
   ]
  },
  {
   "cell_type": "code",
   "execution_count": 14,
   "metadata": {},
   "outputs": [
    {
     "name": "stdout",
     "output_type": "stream",
     "text": [
      "quit | VBD | verb, past tense\n"
     ]
    }
   ],
   "source": [
    "doc = nlp(\"he quit the job\")\n",
    "n=1\n",
    "print(doc[n].text, \"|\", doc[n].tag_, \"|\", spacy.explain(doc[n].tag_))"
   ]
  },
  {
   "cell_type": "markdown",
   "metadata": {},
   "source": [
    "Removing all SPACE, PUNCT and X token from text\n",
    "Processing microsoft's earning report: https://www.microsoft.com/en-us/investor/earnings/fy-2022-q2/press-release-webcast"
   ]
  },
  {
   "cell_type": "code",
   "execution_count": 17,
   "metadata": {},
   "outputs": [
    {
     "name": "stdout",
     "output_type": "stream",
     "text": [
      "Microsoft  |  PROPN  |  NNP\n",
      "Corp.  |  PROPN  |  NNP\n",
      "today  |  NOUN  |  NN\n",
      "announced  |  VERB  |  VBD\n",
      "the  |  DET  |  DT\n",
      "following  |  VERB  |  VBG\n",
      "results  |  NOUN  |  NNS\n",
      "for  |  ADP  |  IN\n",
      "the  |  DET  |  DT\n",
      "quarter  |  NOUN  |  NN\n",
      "ended  |  VERB  |  VBD\n",
      "December  |  PROPN  |  NNP\n",
      "31  |  NUM  |  CD\n",
      ",  |  PUNCT  |  ,\n",
      "2021  |  NUM  |  CD\n",
      ",  |  PUNCT  |  ,\n",
      "as  |  SCONJ  |  IN\n",
      "compared  |  VERB  |  VBN\n",
      "to  |  ADP  |  IN\n",
      "the  |  DET  |  DT\n",
      "corresponding  |  ADJ  |  JJ\n",
      "period  |  NOUN  |  NN\n",
      "of  |  ADP  |  IN\n",
      "last  |  ADJ  |  JJ\n",
      "fiscal  |  ADJ  |  JJ\n",
      "year  |  NOUN  |  NN\n",
      ":  |  PUNCT  |  :\n",
      "\n",
      "\n",
      "  |  SPACE  |  _SP\n",
      "·  |  PUNCT  |  NFP\n",
      "          |  SPACE  |  _SP\n",
      "Revenue  |  NOUN  |  NN\n",
      "was  |  AUX  |  VBD\n",
      "$  |  SYM  |  $\n",
      "51.7  |  NUM  |  CD\n",
      "billion  |  NUM  |  CD\n",
      "and  |  CCONJ  |  CC\n",
      "increased  |  VERB  |  VBD\n",
      "20  |  NUM  |  CD\n",
      "%  |  NOUN  |  NN\n",
      "\n",
      "  |  SPACE  |  _SP\n",
      "·  |  PUNCT  |  NFP\n",
      "          |  SPACE  |  _SP\n",
      "Operating  |  VERB  |  VBG\n",
      "income  |  NOUN  |  NN\n",
      "was  |  AUX  |  VBD\n",
      "$  |  SYM  |  $\n",
      "22.2  |  NUM  |  CD\n",
      "billion  |  NUM  |  CD\n",
      "and  |  CCONJ  |  CC\n",
      "increased  |  VERB  |  VBD\n",
      "24  |  NUM  |  CD\n",
      "%  |  NOUN  |  NN\n",
      "\n",
      "  |  SPACE  |  _SP\n",
      "·  |  PUNCT  |  NFP\n",
      "          |  SPACE  |  _SP\n",
      "Net  |  ADJ  |  JJ\n",
      "income  |  NOUN  |  NN\n",
      "was  |  AUX  |  VBD\n",
      "$  |  SYM  |  $\n",
      "18.8  |  NUM  |  CD\n",
      "billion  |  NUM  |  CD\n",
      "and  |  CCONJ  |  CC\n",
      "increased  |  VERB  |  VBD\n",
      "21  |  NUM  |  CD\n",
      "%  |  NOUN  |  NN\n",
      "\n",
      "  |  SPACE  |  _SP\n",
      "·  |  PUNCT  |  NFP\n",
      "          |  SPACE  |  _SP\n",
      "Diluted  |  VERB  |  VBN\n",
      "earnings  |  NOUN  |  NNS\n",
      "per  |  ADP  |  IN\n",
      "share  |  NOUN  |  NN\n",
      "was  |  AUX  |  VBD\n",
      "$  |  SYM  |  $\n",
      "2.48  |  NUM  |  CD\n",
      "and  |  CCONJ  |  CC\n",
      "increased  |  VERB  |  VBD\n",
      "22  |  NUM  |  CD\n",
      "%  |  NOUN  |  NN\n",
      "\n",
      "  |  SPACE  |  _SP\n",
      "“  |  PUNCT  |  ``\n",
      "Digital  |  PROPN  |  NNP\n",
      "technology  |  NOUN  |  NN\n",
      "is  |  AUX  |  VBZ\n",
      "the  |  DET  |  DT\n",
      "most  |  ADV  |  RBS\n",
      "malleable  |  ADJ  |  JJ\n",
      "resource  |  NOUN  |  NN\n",
      "at  |  ADP  |  IN\n",
      "the  |  DET  |  DT\n",
      "world  |  NOUN  |  NN\n",
      "’s  |  PART  |  POS\n",
      "disposal  |  NOUN  |  NN\n",
      "to  |  PART  |  TO\n",
      "overcome  |  VERB  |  VB\n",
      "constraints  |  NOUN  |  NNS\n",
      "and  |  CCONJ  |  CC\n",
      "reimagine  |  VERB  |  VB\n",
      "everyday  |  ADJ  |  JJ\n",
      "work  |  NOUN  |  NN\n",
      "and  |  CCONJ  |  CC\n",
      "life  |  NOUN  |  NN\n",
      ",  |  PUNCT  |  ,\n",
      "”  |  PUNCT  |  ''\n",
      "said  |  VERB  |  VBD\n",
      "Satya  |  PROPN  |  NNP\n",
      "Nadella  |  PROPN  |  NNP\n",
      ",  |  PUNCT  |  ,\n",
      "chairman  |  NOUN  |  NN\n",
      "and  |  CCONJ  |  CC\n",
      "chief  |  ADJ  |  JJ\n",
      "executive  |  ADJ  |  JJ\n",
      "officer  |  NOUN  |  NN\n",
      "of  |  ADP  |  IN\n",
      "Microsoft  |  PROPN  |  NNP\n",
      ".  |  PUNCT  |  .\n",
      "“  |  PUNCT  |  ``\n",
      "As  |  ADV  |  RB\n",
      "tech  |  NOUN  |  NN\n",
      "as  |  ADP  |  IN\n",
      "a  |  DET  |  DT\n",
      "percentage  |  NOUN  |  NN\n",
      "of  |  ADP  |  IN\n",
      "global  |  ADJ  |  JJ\n",
      "GDP  |  PROPN  |  NNP\n",
      "continues  |  VERB  |  VBZ\n",
      "to  |  PART  |  TO\n",
      "increase  |  VERB  |  VB\n",
      ",  |  PUNCT  |  ,\n",
      "we  |  PRON  |  PRP\n",
      "are  |  AUX  |  VBP\n",
      "innovating  |  VERB  |  VBG\n",
      "and  |  CCONJ  |  CC\n",
      "investing  |  VERB  |  VBG\n",
      "across  |  ADP  |  IN\n",
      "diverse  |  ADJ  |  JJ\n",
      "and  |  CCONJ  |  CC\n",
      "growing  |  VERB  |  VBG\n",
      "markets  |  NOUN  |  NNS\n",
      ",  |  PUNCT  |  ,\n",
      "with  |  ADP  |  IN\n",
      "a  |  DET  |  DT\n",
      "common  |  ADJ  |  JJ\n",
      "underlying  |  VERB  |  VBG\n",
      "technology  |  NOUN  |  NN\n",
      "stack  |  NOUN  |  NN\n",
      "and  |  CCONJ  |  CC\n",
      "an  |  DET  |  DT\n",
      "operating  |  NOUN  |  NN\n",
      "model  |  NOUN  |  NN\n",
      "that  |  PRON  |  WDT\n",
      "reinforces  |  VERB  |  VBZ\n",
      "a  |  DET  |  DT\n",
      "common  |  ADJ  |  JJ\n",
      "strategy  |  NOUN  |  NN\n",
      ",  |  PUNCT  |  ,\n",
      "culture  |  NOUN  |  NN\n",
      ",  |  PUNCT  |  ,\n",
      "and  |  CCONJ  |  CC\n",
      "sense  |  NOUN  |  NN\n",
      "of  |  ADP  |  IN\n",
      "purpose  |  NOUN  |  NN\n",
      ".  |  PUNCT  |  .\n",
      "”  |  PUNCT  |  ''\n",
      "\n",
      "  |  SPACE  |  _SP\n",
      "“  |  PUNCT  |  ``\n",
      "Solid  |  ADJ  |  JJ\n",
      "commercial  |  ADJ  |  JJ\n",
      "execution  |  NOUN  |  NN\n",
      ",  |  PUNCT  |  ,\n",
      "represented  |  VERB  |  VBN\n",
      "by  |  ADP  |  IN\n",
      "strong  |  ADJ  |  JJ\n",
      "bookings  |  NOUN  |  NNS\n",
      "growth  |  NOUN  |  NN\n",
      "driven  |  VERB  |  VBN\n",
      "by  |  ADP  |  IN\n",
      "long  |  ADJ  |  JJ\n",
      "-  |  PUNCT  |  HYPH\n",
      "term  |  NOUN  |  NN\n",
      "Azure  |  ADJ  |  JJ\n",
      "commitments  |  NOUN  |  NNS\n",
      ",  |  PUNCT  |  ,\n",
      "increased  |  VERB  |  VBD\n",
      "Microsoft  |  PROPN  |  NNP\n",
      "Cloud  |  PROPN  |  NNP\n",
      "revenue  |  NOUN  |  NN\n",
      "to  |  ADP  |  IN\n",
      "$  |  SYM  |  $\n",
      "22.1  |  NUM  |  CD\n",
      "billion  |  NUM  |  CD\n",
      ",  |  PUNCT  |  ,\n",
      "up  |  ADV  |  RB\n",
      "32  |  NUM  |  CD\n",
      "%  |  NOUN  |  NN\n",
      "year  |  NOUN  |  NN\n",
      "over  |  ADP  |  IN\n",
      "year  |  NOUN  |  NN\n",
      "”  |  PUNCT  |  ''\n",
      "said  |  VERB  |  VBD\n",
      "Amy  |  PROPN  |  NNP\n",
      "Hood  |  PROPN  |  NNP\n",
      ",  |  PUNCT  |  ,\n",
      "executive  |  ADJ  |  JJ\n",
      "vice  |  NOUN  |  NN\n",
      "president  |  NOUN  |  NN\n",
      "and  |  CCONJ  |  CC\n",
      "chief  |  ADJ  |  JJ\n",
      "financial  |  ADJ  |  JJ\n",
      "officer  |  NOUN  |  NN\n",
      "of  |  ADP  |  IN\n",
      "Microsoft  |  PROPN  |  NNP\n",
      ".  |  PUNCT  |  .\n"
     ]
    }
   ],
   "source": [
    "earnings_text=\"\"\"Microsoft Corp. today announced the following results for the quarter ended December 31, 2021, as compared to the corresponding period of last fiscal year:\n",
    "\n",
    "·         Revenue was $51.7 billion and increased 20%\n",
    "·         Operating income was $22.2 billion and increased 24%\n",
    "·         Net income was $18.8 billion and increased 21%\n",
    "·         Diluted earnings per share was $2.48 and increased 22%\n",
    "“Digital technology is the most malleable resource at the world’s disposal to overcome constraints and reimagine everyday work and life,” said Satya Nadella, chairman and chief executive officer of Microsoft. “As tech as a percentage of global GDP continues to increase, we are innovating and investing across diverse and growing markets, with a common underlying technology stack and an operating model that reinforces a common strategy, culture, and sense of purpose.”\n",
    "“Solid commercial execution, represented by strong bookings growth driven by long-term Azure commitments, increased Microsoft Cloud revenue to $22.1 billion, up 32% year over year” said Amy Hood, executive vice president and chief financial officer of Microsoft.\"\"\"\n",
    "\n",
    "doc = nlp(earnings_text)\n",
    "\n",
    "for token in doc:\n",
    "    print(token ,\" | \",token.pos_,\" | \",token.tag_)"
   ]
  },
  {
   "cell_type": "code",
   "execution_count": 18,
   "metadata": {},
   "outputs": [
    {
     "name": "stdout",
     "output_type": "stream",
     "text": [
      "[Microsoft, Corp., today, announced, the, following, results, for, the, quarter, ended, December, 31, 2021, as, compared, to, the, corresponding, period, of, last, fiscal, year, Revenue, was, $, 51.7, billion, and, increased, 20, %, Operating, income, was, $, 22.2, billion, and, increased, 24, %, Net, income, was, $, 18.8, billion, and, increased, 21, %, Diluted, earnings, per, share, was, $, 2.48, and, increased, 22, %, Digital, technology, is, the, most, malleable, resource, at, the, world, ’s, disposal, to, overcome, constraints, and, reimagine, everyday, work, and, life, said, Satya, Nadella, chairman, and, chief, executive, officer, of, Microsoft, As, tech, as, a, percentage, of, global, GDP, continues, to, increase, we, are, innovating, and, investing, across, diverse, and, growing, markets, with, a, common, underlying, technology, stack, and, an, operating, model, that, reinforces, a, common, strategy, culture, and, sense, of, purpose, Solid, commercial, execution, represented, by, strong, bookings, growth, driven, by, long, term, Azure, commitments, increased, Microsoft, Cloud, revenue, to, $, 22.1, billion, up, 32, %, year, over, year, said, Amy, Hood, executive, vice, president, and, chief, financial, officer, of, Microsoft]\n"
     ]
    }
   ],
   "source": [
    "filtered_tokens=[]\n",
    "for token in doc:\n",
    "    if token.pos_ not in [\"SPACE\",\"PUNCT\",\"X\"]:\n",
    "        filtered_tokens.append(token)\n",
    "\n",
    "print(filtered_tokens)"
   ]
  },
  {
   "cell_type": "code",
   "execution_count": 19,
   "metadata": {},
   "outputs": [
    {
     "data": {
      "text/plain": [
       "{96: 13,\n",
       " 92: 46,\n",
       " 100: 24,\n",
       " 90: 9,\n",
       " 85: 16,\n",
       " 93: 16,\n",
       " 97: 27,\n",
       " 98: 1,\n",
       " 84: 20,\n",
       " 103: 10,\n",
       " 87: 6,\n",
       " 99: 5,\n",
       " 89: 12,\n",
       " 86: 3,\n",
       " 94: 3,\n",
       " 95: 2}"
      ]
     },
     "execution_count": 19,
     "metadata": {},
     "output_type": "execute_result"
    }
   ],
   "source": [
    "count = doc.count_by(spacy.attrs.POS)\n",
    "count"
   ]
  },
  {
   "cell_type": "code",
   "execution_count": 20,
   "metadata": {},
   "outputs": [
    {
     "data": {
      "text/plain": [
       "'PROPN'"
      ]
     },
     "execution_count": 20,
     "metadata": {},
     "output_type": "execute_result"
    }
   ],
   "source": [
    "doc.vocab[96].text"
   ]
  },
  {
   "cell_type": "code",
   "execution_count": 21,
   "metadata": {},
   "outputs": [
    {
     "name": "stdout",
     "output_type": "stream",
     "text": [
      "PROPN | 13\n",
      "NOUN | 46\n",
      "VERB | 24\n",
      "DET | 9\n",
      "ADP | 16\n",
      "NUM | 16\n",
      "PUNCT | 27\n",
      "SCONJ | 1\n",
      "ADJ | 20\n",
      "SPACE | 10\n",
      "AUX | 6\n",
      "SYM | 5\n",
      "CCONJ | 12\n",
      "ADV | 3\n",
      "PART | 3\n",
      "PRON | 2\n"
     ]
    }
   ],
   "source": [
    "for k,v in count.items():\n",
    "    print(doc.vocab[k].text, \"|\",v)\n"
   ]
  },
  {
   "cell_type": "markdown",
   "metadata": {},
   "source": [
    "Exercise for Spacy POS tutorial,\n",
    "\n",
    "You are parsing a news story from cnbc.com. News story is stores in news_story.txt which is available in this same folder on github. You need to,\n",
    "Extract all NOUN tokens from this story. You will have to read the file in python first to collect all the text and then extract NOUNs in a python list\n",
    "Extract all numbers (NUM POS type) in a python list\n",
    "Print a count of all POS tags in this story"
   ]
  },
  {
   "cell_type": "code",
   "execution_count": null,
   "metadata": {},
   "outputs": [],
   "source": []
  }
 ],
 "metadata": {
  "kernelspec": {
   "display_name": "Python 3",
   "language": "python",
   "name": "python3"
  },
  "language_info": {
   "codemirror_mode": {
    "name": "ipython",
    "version": 3
   },
   "file_extension": ".py",
   "mimetype": "text/x-python",
   "name": "python",
   "nbconvert_exporter": "python",
   "pygments_lexer": "ipython3",
   "version": "3.10.0"
  }
 },
 "nbformat": 4,
 "nbformat_minor": 2
}

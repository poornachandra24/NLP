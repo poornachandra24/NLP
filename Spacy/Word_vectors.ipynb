{
 "cells": [
  {
   "cell_type": "code",
   "execution_count": null,
   "metadata": {},
   "outputs": [],
   "source": [
    "# word vectors occupy lot of space. hence en_core_web_sm model do not have them included. \n",
    "# In order to download\n",
    "# word vectors you need to install large or medium english model. We will install the large one!\n",
    "# make sure you have run \"python -m spacy download en_core_web_lg\" to install large english model"
   ]
  },
  {
   "cell_type": "code",
   "execution_count": 1,
   "metadata": {},
   "outputs": [],
   "source": [
    "import spacy \n",
    "\n",
    "nlp=spacy.load(\"en_core_web_lg\")"
   ]
  },
  {
   "cell_type": "code",
   "execution_count": 4,
   "metadata": {},
   "outputs": [
    {
     "name": "stdout",
     "output_type": "stream",
     "text": [
      "dog Vector: True OOV: False\n",
      "cat Vector: True OOV: False\n",
      "banana Vector: True OOV: False\n",
      "kem Vector: False OOV: True\n"
     ]
    }
   ],
   "source": [
    "doc=nlp(\"dog cat banana kem\")\n",
    "for token in doc:\n",
    "    print(token.text, \"Vector:\", token.has_vector, \"OOV:\", token.is_oov)"
   ]
  },
  {
   "cell_type": "code",
   "execution_count": 5,
   "metadata": {},
   "outputs": [
    {
     "data": {
      "text/plain": [
       "(300,)"
      ]
     },
     "execution_count": 5,
     "metadata": {},
     "output_type": "execute_result"
    }
   ],
   "source": [
    "doc[0].vector.shape"
   ]
  },
  {
   "cell_type": "code",
   "execution_count": 6,
   "metadata": {},
   "outputs": [
    {
     "data": {
      "text/plain": [
       "(300,)"
      ]
     },
     "execution_count": 6,
     "metadata": {},
     "output_type": "execute_result"
    }
   ],
   "source": [
    "base_token = nlp(\"bread\")\n",
    "base_token.vector.shape"
   ]
  },
  {
   "cell_type": "code",
   "execution_count": 7,
   "metadata": {},
   "outputs": [
    {
     "name": "stdout",
     "output_type": "stream",
     "text": [
      "bread <-> bread: 0.9999999744752309\n",
      "sandwich <-> bread: 0.634106782477101\n",
      "burger <-> bread: 0.4752069113758708\n",
      "car <-> bread: 0.06451533308853552\n",
      "tiger <-> bread: 0.04764611675903374\n",
      "human <-> bread: 0.2151154210812192\n",
      "wheat <-> bread: 0.6150360888607199\n"
     ]
    }
   ],
   "source": [
    "doc = nlp(\"bread sandwich burger car tiger human wheat\")\n",
    "\n",
    "for token in doc:\n",
    "    print(f\"{token.text} <-> {base_token.text}:\", token.similarity(base_token))"
   ]
  },
  {
   "cell_type": "code",
   "execution_count": 8,
   "metadata": {},
   "outputs": [],
   "source": [
    "def print_similarity(base_word, words_to_compare):\n",
    "    base_token = nlp(base_word)\n",
    "    doc = nlp(words_to_compare)\n",
    "    for token in doc:\n",
    "        print(f\"{token.text} <-> {base_token.text}: \", token.similarity(base_token))"
   ]
  },
  {
   "cell_type": "code",
   "execution_count": 9,
   "metadata": {},
   "outputs": [
    {
     "name": "stdout",
     "output_type": "stream",
     "text": [
      "apple <-> iphone:  0.4387907748060368\n",
      "samsung <-> iphone:  0.670859081425417\n",
      "iphone <-> iphone:  0.9999999983096304\n",
      "dog <-> iphone:  0.08211864228011527\n",
      "kitten <-> iphone:  0.10222318459666081\n"
     ]
    }
   ],
   "source": [
    "print_similarity(\"iphone\", \"apple samsung iphone dog kitten\")"
   ]
  },
  {
   "cell_type": "code",
   "execution_count": 11,
   "metadata": {},
   "outputs": [
    {
     "name": "stdout",
     "output_type": "stream",
     "text": [
      "[ 1.9392200e+00 -2.3115001e+00 -1.3863000e+00 -1.9133999e+00\n",
      "  4.1749401e+00 -1.5401300e+00 -3.8272700e+00  5.0291996e+00\n",
      " -2.4454002e+00  2.0851002e+00  1.6605499e+01 -1.3788500e+00\n",
      " -5.7085404e+00  2.7210798e+00  6.6530025e-01  3.4804001e+00\n",
      "  1.0497000e+00 -1.1281996e+00 -6.6435003e-01 -3.5216696e+00\n",
      " -8.0680294e+00 -3.8434997e+00 -4.4948001e+00  8.7943001e+00\n",
      " -6.3383985e-01 -4.8098001e+00 -1.2955203e+00 -6.1078286e-01\n",
      "  4.1610003e-01 -4.1724200e+00  3.7961500e+00 -5.5350199e+00\n",
      " -1.4319000e+00 -4.7633996e+00  3.7440000e+00 -1.2749730e+00\n",
      "  3.1816001e+00  1.0476298e+00  1.0784001e+00 -3.0779200e+00\n",
      " -1.2711000e+00 -3.6251001e+00 -2.7258501e+00  4.7676001e+00\n",
      "  1.5000498e+00  2.5363998e+00  9.6959996e-01  2.8748999e+00\n",
      "  2.6771998e+00  1.8741999e+00 -5.3535199e+00  3.7624002e+00\n",
      " -5.4443008e-01 -2.8594000e+00 -2.3983500e+00  7.5615001e-01\n",
      " -1.6862996e+00 -6.4709001e+00  4.6223898e+00  4.8498998e+00\n",
      " -3.0052018e-01 -3.8868999e+00  6.3224001e+00 -2.3664501e+00\n",
      "  2.2703300e+00  3.3231003e+00 -6.1042299e+00 -5.0201001e+00\n",
      "  9.5792999e+00  3.2759299e+00 -2.2653799e+00  2.1234000e+00\n",
      " -4.9017401e+00 -1.7752002e+00 -5.6193900e+00  4.1918001e+00\n",
      " -7.4270792e+00  4.9396996e+00 -2.4484301e+00  4.2602000e+00\n",
      " -6.5094099e+00  2.1665001e-01 -4.7990103e+00  2.1538997e+00\n",
      "  5.7447004e-01  4.8984995e+00 -2.2124000e+00  6.1560011e-01\n",
      " -2.9963100e+00 -2.3548698e+00  3.4073899e+00  3.2515998e+00\n",
      "  5.9930038e-01 -4.7820997e+00 -3.5769701e+00  1.4498850e+00\n",
      "  3.3627901e+00  1.6592300e+00 -4.9630995e+00  3.1173401e+00\n",
      " -2.4839001e+00  6.2902503e+00  4.9243503e+00  2.9040699e+00\n",
      "  4.3234000e+00  6.6861000e+00  5.3109980e-01 -2.5485201e+00\n",
      "  8.3090991e-02 -5.3160200e+00 -1.0756803e+00  7.8729000e+00\n",
      " -4.3389010e-01 -5.2601500e+00  1.3486199e+01  2.3806996e+00\n",
      " -3.7742000e+00 -1.1628900e+00 -6.5094995e-01 -5.2306204e+00\n",
      "  3.5393040e+00 -2.8087997e+00  6.3808994e+00 -4.2631006e+00\n",
      " -1.3755180e+00 -1.1459400e+01  6.9519949e-01 -6.7654104e+00\n",
      " -3.7590027e-01  1.0349000e+00 -7.7567997e+00 -3.3424997e-01\n",
      " -2.4899971e-01  2.7706003e-01 -2.1068301e+00 -4.0296001e+00\n",
      " -4.1249003e+00  9.2911994e-01 -1.9882005e-01 -4.7922001e+00\n",
      " -8.0993996e+00  9.8409986e-01 -2.5156000e+00  3.9651000e+00\n",
      "  3.9823101e+00 -1.7520022e-01 -8.5326996e+00  2.7765503e+00\n",
      "  5.6943102e+00  5.4154899e-02 -2.0930729e+00  3.4601800e+00\n",
      "  4.3996003e-01  7.6155643e+00  4.4245200e+00  6.7000389e-03\n",
      " -2.9654300e+00 -1.4637101e+00 -2.6764998e+00 -4.1227999e+00\n",
      " -4.5114298e+00 -7.5515008e+00  9.1299772e-02 -2.2665730e+00\n",
      " -3.1620002e+00 -9.3991003e+00 -8.2884207e+00 -2.1912401e+00\n",
      " -2.3130891e+00  2.6930994e-01  5.4695005e+00 -4.9580050e-01\n",
      " -3.7524998e+00  1.1632795e+00  1.5505002e+00 -1.9376998e+00\n",
      " -5.0283003e-01 -9.6462005e-01 -1.9391000e+00 -3.0476999e+00\n",
      "  3.4930000e+00 -8.9099646e-02  7.2140002e-01 -2.5389199e+00\n",
      "  4.7689600e+00  6.6139498e+00 -6.9038987e-01  1.4298400e+00\n",
      "  1.9550014e-01  2.9179108e+00  1.2519000e+00 -9.3613863e+00\n",
      " -5.9127002e+00  2.1136999e+00  4.5472403e+00 -1.8481016e-02\n",
      " -4.4704199e+00  1.7130041e-01  1.0735900e+00  6.3000903e+00\n",
      "  6.4400005e-01 -1.0550988e-01 -4.1835999e+00  4.4136992e-01\n",
      " -3.9800000e-01 -4.4532104e+00  1.6721599e+00  7.3224001e+00\n",
      " -1.0846002e+00  5.5222998e+00  3.7199998e-01  1.2874600e+00\n",
      "  5.5377903e+00  6.4842997e+00 -4.4014025e-01  1.9180198e+00\n",
      "  5.9175801e+00 -3.3658504e+00  2.3565402e+00 -6.5751324e+00\n",
      " -5.7356200e+00  3.2288995e+00 -5.7550025e-01  8.1138000e+00\n",
      " -5.8756006e-01 -1.3780003e+00  5.0790000e-01  3.6003995e+00\n",
      " -2.0974400e+00  5.4249001e+00  1.0930002e-01  1.1624999e+00\n",
      " -2.8050101e+00  6.6023998e+00  4.0592999e+00  6.4873004e+00\n",
      " -1.6781001e+00 -4.1176033e-01 -4.6373997e+00  5.2927999e+00\n",
      "  3.6361998e-01  1.0570800e+01 -3.6768999e+00 -2.2553000e+00\n",
      "  1.7148998e+00 -8.5960031e-01  6.8120003e-01  4.2570729e+00\n",
      "  6.0465002e+00  6.4090991e-01  2.3524004e-01 -5.4971004e+00\n",
      " -7.4195600e+00 -2.9869998e-01  8.8177013e-01 -8.6038990e+00\n",
      "  4.4706001e+00  2.3107004e+00 -5.6815004e-01  2.5742202e+00\n",
      "  7.3649991e-01 -1.0553801e+00  4.1707301e-01  3.6274299e-01\n",
      "  2.8873711e+00 -1.9827211e+00 -1.5422699e+00  1.1284900e+00\n",
      " -1.1235000e+01  5.4754000e+00  8.1189990e-01 -1.0999300e+00\n",
      " -5.9274001e+00 -7.1076298e-01 -1.1008101e+00 -2.2453001e+00\n",
      "  3.0368700e+00 -3.7698898e+00 -3.7548003e+00  1.2790999e+00\n",
      "  9.7320008e-01 -4.2096000e+00  5.5269995e+00  1.8465997e+00\n",
      "  4.0220995e+00  1.0505199e+00  2.1808698e+00  4.7750001e+00\n",
      " -3.8340001e+00 -5.8677998e+00  1.9839001e+00  2.9614999e+00\n",
      " -4.1291223e+00 -1.9792000e+00  1.5635000e+00  4.0887995e+00\n",
      " -1.3429599e+00 -6.4279995e+00 -7.1104698e+00  2.1612999e+00]\n"
     ]
    }
   ],
   "source": [
    "king = nlp.vocab[\"king\"].vector\n",
    "man = nlp.vocab[\"man\"].vector\n",
    "woman = nlp.vocab[\"woman\"].vector\n",
    "queen = nlp.vocab[\"queen\"].vector\n",
    "\n",
    "result = king - man + woman\n",
    "print(result)"
   ]
  },
  {
   "cell_type": "code",
   "execution_count": 12,
   "metadata": {},
   "outputs": [
    {
     "data": {
      "text/plain": [
       "numpy.ndarray"
      ]
     },
     "execution_count": 12,
     "metadata": {},
     "output_type": "execute_result"
    }
   ],
   "source": [
    "type(result)"
   ]
  },
  {
   "cell_type": "code",
   "execution_count": 14,
   "metadata": {},
   "outputs": [
    {
     "data": {
      "text/plain": [
       "array([[0.6178014]], dtype=float32)"
      ]
     },
     "execution_count": 14,
     "metadata": {},
     "output_type": "execute_result"
    }
   ],
   "source": [
    "from sklearn.metrics.pairwise import cosine_similarity\n",
    "\n",
    "cosine_similarity([result], [queen])\n",
    "# anything greater than 0.5 similarity is considered  as match found"
   ]
  }
 ],
 "metadata": {
  "kernelspec": {
   "display_name": ".venv",
   "language": "python",
   "name": "python3"
  },
  "language_info": {
   "codemirror_mode": {
    "name": "ipython",
    "version": 3
   },
   "file_extension": ".py",
   "mimetype": "text/x-python",
   "name": "python",
   "nbconvert_exporter": "python",
   "pygments_lexer": "ipython3",
   "version": "3.10.0"
  }
 },
 "nbformat": 4,
 "nbformat_minor": 2
}
